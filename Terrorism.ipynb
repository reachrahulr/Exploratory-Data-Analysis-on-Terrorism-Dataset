{
 "cells": [
  {
   "cell_type": "code",
   "execution_count": 1,
   "metadata": {},
   "outputs": [],
   "source": [
    "import pandas as pd\n",
    "import numpy as np\n",
    "import matplotlib.pyplot as plt\n",
    "%matplotlib inline\n",
    "import warnings\n",
    "warnings.filterwarnings(\"ignore\")"
   ]
  },
  {
   "cell_type": "code",
   "execution_count": 2,
   "metadata": {},
   "outputs": [
    {
     "data": {
      "text/html": [
       "<div>\n",
       "<style scoped>\n",
       "    .dataframe tbody tr th:only-of-type {\n",
       "        vertical-align: middle;\n",
       "    }\n",
       "\n",
       "    .dataframe tbody tr th {\n",
       "        vertical-align: top;\n",
       "    }\n",
       "\n",
       "    .dataframe thead th {\n",
       "        text-align: right;\n",
       "    }\n",
       "</style>\n",
       "<table border=\"1\" class=\"dataframe\">\n",
       "  <thead>\n",
       "    <tr style=\"text-align: right;\">\n",
       "      <th></th>\n",
       "      <th>eventid</th>\n",
       "      <th>iyear</th>\n",
       "      <th>imonth</th>\n",
       "      <th>iday</th>\n",
       "      <th>approxdate</th>\n",
       "      <th>extended</th>\n",
       "      <th>resolution</th>\n",
       "      <th>country</th>\n",
       "      <th>country_txt</th>\n",
       "      <th>region</th>\n",
       "      <th>...</th>\n",
       "      <th>addnotes</th>\n",
       "      <th>scite1</th>\n",
       "      <th>scite2</th>\n",
       "      <th>scite3</th>\n",
       "      <th>dbsource</th>\n",
       "      <th>INT_LOG</th>\n",
       "      <th>INT_IDEO</th>\n",
       "      <th>INT_MISC</th>\n",
       "      <th>INT_ANY</th>\n",
       "      <th>related</th>\n",
       "    </tr>\n",
       "  </thead>\n",
       "  <tbody>\n",
       "    <tr>\n",
       "      <th>0</th>\n",
       "      <td>197000000001</td>\n",
       "      <td>1970</td>\n",
       "      <td>7</td>\n",
       "      <td>2</td>\n",
       "      <td>NaN</td>\n",
       "      <td>0</td>\n",
       "      <td>NaN</td>\n",
       "      <td>58</td>\n",
       "      <td>Dominican Republic</td>\n",
       "      <td>2</td>\n",
       "      <td>...</td>\n",
       "      <td>NaN</td>\n",
       "      <td>NaN</td>\n",
       "      <td>NaN</td>\n",
       "      <td>NaN</td>\n",
       "      <td>PGIS</td>\n",
       "      <td>0</td>\n",
       "      <td>0</td>\n",
       "      <td>0</td>\n",
       "      <td>0</td>\n",
       "      <td>NaN</td>\n",
       "    </tr>\n",
       "    <tr>\n",
       "      <th>1</th>\n",
       "      <td>197000000002</td>\n",
       "      <td>1970</td>\n",
       "      <td>0</td>\n",
       "      <td>0</td>\n",
       "      <td>NaN</td>\n",
       "      <td>0</td>\n",
       "      <td>NaN</td>\n",
       "      <td>130</td>\n",
       "      <td>Mexico</td>\n",
       "      <td>1</td>\n",
       "      <td>...</td>\n",
       "      <td>NaN</td>\n",
       "      <td>NaN</td>\n",
       "      <td>NaN</td>\n",
       "      <td>NaN</td>\n",
       "      <td>PGIS</td>\n",
       "      <td>0</td>\n",
       "      <td>1</td>\n",
       "      <td>1</td>\n",
       "      <td>1</td>\n",
       "      <td>NaN</td>\n",
       "    </tr>\n",
       "    <tr>\n",
       "      <th>2</th>\n",
       "      <td>197001000001</td>\n",
       "      <td>1970</td>\n",
       "      <td>1</td>\n",
       "      <td>0</td>\n",
       "      <td>NaN</td>\n",
       "      <td>0</td>\n",
       "      <td>NaN</td>\n",
       "      <td>160</td>\n",
       "      <td>Philippines</td>\n",
       "      <td>5</td>\n",
       "      <td>...</td>\n",
       "      <td>NaN</td>\n",
       "      <td>NaN</td>\n",
       "      <td>NaN</td>\n",
       "      <td>NaN</td>\n",
       "      <td>PGIS</td>\n",
       "      <td>-9</td>\n",
       "      <td>-9</td>\n",
       "      <td>1</td>\n",
       "      <td>1</td>\n",
       "      <td>NaN</td>\n",
       "    </tr>\n",
       "    <tr>\n",
       "      <th>3</th>\n",
       "      <td>197001000002</td>\n",
       "      <td>1970</td>\n",
       "      <td>1</td>\n",
       "      <td>0</td>\n",
       "      <td>NaN</td>\n",
       "      <td>0</td>\n",
       "      <td>NaN</td>\n",
       "      <td>78</td>\n",
       "      <td>Greece</td>\n",
       "      <td>8</td>\n",
       "      <td>...</td>\n",
       "      <td>NaN</td>\n",
       "      <td>NaN</td>\n",
       "      <td>NaN</td>\n",
       "      <td>NaN</td>\n",
       "      <td>PGIS</td>\n",
       "      <td>-9</td>\n",
       "      <td>-9</td>\n",
       "      <td>1</td>\n",
       "      <td>1</td>\n",
       "      <td>NaN</td>\n",
       "    </tr>\n",
       "    <tr>\n",
       "      <th>4</th>\n",
       "      <td>197001000003</td>\n",
       "      <td>1970</td>\n",
       "      <td>1</td>\n",
       "      <td>0</td>\n",
       "      <td>NaN</td>\n",
       "      <td>0</td>\n",
       "      <td>NaN</td>\n",
       "      <td>101</td>\n",
       "      <td>Japan</td>\n",
       "      <td>4</td>\n",
       "      <td>...</td>\n",
       "      <td>NaN</td>\n",
       "      <td>NaN</td>\n",
       "      <td>NaN</td>\n",
       "      <td>NaN</td>\n",
       "      <td>PGIS</td>\n",
       "      <td>-9</td>\n",
       "      <td>-9</td>\n",
       "      <td>1</td>\n",
       "      <td>1</td>\n",
       "      <td>NaN</td>\n",
       "    </tr>\n",
       "  </tbody>\n",
       "</table>\n",
       "<p>5 rows × 135 columns</p>\n",
       "</div>"
      ],
      "text/plain": [
       "        eventid  iyear  imonth  iday approxdate  extended resolution  country  \\\n",
       "0  197000000001   1970       7     2        NaN         0        NaN       58   \n",
       "1  197000000002   1970       0     0        NaN         0        NaN      130   \n",
       "2  197001000001   1970       1     0        NaN         0        NaN      160   \n",
       "3  197001000002   1970       1     0        NaN         0        NaN       78   \n",
       "4  197001000003   1970       1     0        NaN         0        NaN      101   \n",
       "\n",
       "          country_txt  region  ... addnotes scite1 scite2  scite3  dbsource  \\\n",
       "0  Dominican Republic       2  ...      NaN    NaN    NaN     NaN      PGIS   \n",
       "1              Mexico       1  ...      NaN    NaN    NaN     NaN      PGIS   \n",
       "2         Philippines       5  ...      NaN    NaN    NaN     NaN      PGIS   \n",
       "3              Greece       8  ...      NaN    NaN    NaN     NaN      PGIS   \n",
       "4               Japan       4  ...      NaN    NaN    NaN     NaN      PGIS   \n",
       "\n",
       "   INT_LOG  INT_IDEO INT_MISC INT_ANY  related  \n",
       "0        0         0        0       0      NaN  \n",
       "1        0         1        1       1      NaN  \n",
       "2       -9        -9        1       1      NaN  \n",
       "3       -9        -9        1       1      NaN  \n",
       "4       -9        -9        1       1      NaN  \n",
       "\n",
       "[5 rows x 135 columns]"
      ]
     },
     "execution_count": 2,
     "metadata": {},
     "output_type": "execute_result"
    }
   ],
   "source": [
    "df = pd.read_csv(r'C:\\Users\\akhil\\Downloads\\Titanic DS\\Global Terrorism\\globalterrorismdb.csv', engine='python')\n",
    "df.head()"
   ]
  },
  {
   "cell_type": "code",
   "execution_count": 3,
   "metadata": {},
   "outputs": [],
   "source": [
    "pd.set_option('display.max_columns', None)\n",
    "pd.set_option('display.max_rows', 500)"
   ]
  },
  {
   "cell_type": "code",
   "execution_count": 4,
   "metadata": {},
   "outputs": [
    {
     "data": {
      "text/plain": [
       "INT_ANY                    0\n",
       "INT_IDEO                   0\n",
       "INT_LOG                    0\n",
       "INT_MISC                   0\n",
       "addnotes              153402\n",
       "alternative           152680\n",
       "alternative_txt       152680\n",
       "approxdate            172452\n",
       "attacktype1                0\n",
       "attacktype1_txt            0\n",
       "attacktype2           175377\n",
       "attacktype2_txt       175377\n",
       "attacktype3           181263\n",
       "attacktype3_txt       181263\n",
       "city                     434\n",
       "claim2                179801\n",
       "claim3                181373\n",
       "claimed                66120\n",
       "claimmode             162608\n",
       "claimmode2            181075\n",
       "claimmode2_txt        181075\n",
       "claimmode3            181558\n",
       "claimmode3_txt        181558\n",
       "claimmode_txt         162608\n",
       "compclaim             176852\n",
       "corp1                  42550\n",
       "corp2                 171574\n",
       "corp3                 180665\n",
       "country                    0\n",
       "country_txt                0\n",
       "crit1                      0\n",
       "crit2                      0\n",
       "crit3                      0\n",
       "dbsource                   0\n",
       "divert                181367\n",
       "doubtterr                  1\n",
       "eventid                    0\n",
       "extended                   0\n",
       "gname                      0\n",
       "gname2                179678\n",
       "gname3                181367\n",
       "gsubname              175801\n",
       "gsubname2             181531\n",
       "gsubname3             181671\n",
       "guncertain1              380\n",
       "guncertain2           179736\n",
       "guncertain3           181371\n",
       "hostkidoutcome        170700\n",
       "hostkidoutcome_txt    170700\n",
       "iday                       0\n",
       "imonth                     0\n",
       "individual                 0\n",
       "ishostkid                178\n",
       "iyear                      0\n",
       "kidhijcountry         178386\n",
       "latitude                4556\n",
       "location              126196\n",
       "longitude               4557\n",
       "motive                131130\n",
       "multiple                   1\n",
       "natlty1                 1559\n",
       "natlty1_txt             1559\n",
       "natlty2               170863\n",
       "natlty2_txt           170863\n",
       "natlty3               180544\n",
       "natlty3_txt           180544\n",
       "ndays                 173567\n",
       "nhostkid              168119\n",
       "nhostkidus            168174\n",
       "nhours                177628\n",
       "nkill                  10313\n",
       "nkillter               66958\n",
       "nkillus                64446\n",
       "nperpcap               69489\n",
       "nperps                 71115\n",
       "nreleased             171291\n",
       "nwound                 16311\n",
       "nwoundte               69143\n",
       "nwoundus               64702\n",
       "propcomment           123732\n",
       "property                   0\n",
       "propextent            117626\n",
       "propextent_txt        117626\n",
       "propvalue             142702\n",
       "provstate                421\n",
       "ransom                104310\n",
       "ransomamt             180341\n",
       "ransomamtus           181128\n",
       "ransomnote            181177\n",
       "ransompaid            180917\n",
       "ransompaidus          181139\n",
       "region                     0\n",
       "region_txt                 0\n",
       "related               156653\n",
       "resolution            179471\n",
       "scite1                 66191\n",
       "scite2                104758\n",
       "scite3                138175\n",
       "specificity                6\n",
       "success                    0\n",
       "suicide                    0\n",
       "summary                66129\n",
       "target1                  636\n",
       "target2               170671\n",
       "target3               180516\n",
       "targsubtype1           10373\n",
       "targsubtype1_txt       10373\n",
       "targsubtype2          171006\n",
       "targsubtype2_txt      171006\n",
       "targsubtype3          180594\n",
       "targsubtype3_txt      180594\n",
       "targtype1                  0\n",
       "targtype1_txt              0\n",
       "targtype2             170547\n",
       "targtype2_txt         170547\n",
       "targtype3             180515\n",
       "targtype3_txt         180515\n",
       "vicinity                   0\n",
       "weapdetail             67670\n",
       "weapsubtype1           20768\n",
       "weapsubtype1_txt       20768\n",
       "weapsubtype2          170149\n",
       "weapsubtype2_txt      170149\n",
       "weapsubtype3          179998\n",
       "weapsubtype3_txt      179998\n",
       "weapsubtype4          181621\n",
       "weapsubtype4_txt      181621\n",
       "weaptype1                  0\n",
       "weaptype1_txt              0\n",
       "weaptype2             168564\n",
       "weaptype2_txt         168564\n",
       "weaptype3             179828\n",
       "weaptype3_txt         179828\n",
       "weaptype4             181618\n",
       "weaptype4_txt         181618\n",
       "dtype: int64"
      ]
     },
     "execution_count": 4,
     "metadata": {},
     "output_type": "execute_result"
    }
   ],
   "source": [
    "df.isnull().sum().sort_index(ascending=True)"
   ]
  },
  {
   "cell_type": "code",
   "execution_count": 5,
   "metadata": {},
   "outputs": [
    {
     "data": {
      "text/plain": [
       "eventid                0.000000\n",
       "crit3                  0.000000\n",
       "success                0.000000\n",
       "suicide                0.000000\n",
       "attacktype1            0.000000\n",
       "attacktype1_txt        0.000000\n",
       "INT_LOG                0.000000\n",
       "crit2                  0.000000\n",
       "dbsource               0.000000\n",
       "targtype1_txt          0.000000\n",
       "property               0.000000\n",
       "gname                  0.000000\n",
       "weaptype1_txt          0.000000\n",
       "weaptype1              0.000000\n",
       "INT_ANY                0.000000\n",
       "individual             0.000000\n",
       "crit1                  0.000000\n",
       "targtype1              0.000000\n",
       "region_txt             0.000000\n",
       "vicinity               0.000000\n",
       "country                0.000000\n",
       "iyear                  0.000000\n",
       "extended               0.000000\n",
       "imonth                 0.000000\n",
       "INT_IDEO               0.000000\n",
       "INT_MISC               0.000000\n",
       "iday                   0.000000\n",
       "region                 0.000000\n",
       "country_txt            0.000000\n",
       "doubtterr              0.000550\n",
       "multiple               0.000550\n",
       "specificity            0.003302\n",
       "ishostkid              0.097969\n",
       "guncertain1            0.209146\n",
       "provstate              0.231712\n",
       "city                   0.238867\n",
       "target1                0.350045\n",
       "natlty1_txt            0.858050\n",
       "natlty1                0.858050\n",
       "latitude               2.507554\n",
       "longitude              2.508104\n",
       "nkill                  5.676120\n",
       "targsubtype1_txt       5.709144\n",
       "targsubtype1           5.709144\n",
       "nwound                 8.977330\n",
       "weapsubtype1          11.430396\n",
       "weapsubtype1_txt      11.430396\n",
       "corp1                 23.418882\n",
       "nkillus               35.470111\n",
       "nwoundus              35.611010\n",
       "claimed               36.391456\n",
       "summary               36.396409\n",
       "scite1                36.430533\n",
       "nkillter              36.852678\n",
       "weapdetail            37.244553\n",
       "nwoundte              38.055270\n",
       "nperpcap              38.245703\n",
       "nperps                39.140629\n",
       "ransom                57.410659\n",
       "scite2                57.657231\n",
       "propextent_txt        64.739585\n",
       "propextent            64.739585\n",
       "propcomment           68.100236\n",
       "location              69.456385\n",
       "motive                72.171984\n",
       "scite3                76.049447\n",
       "propvalue             78.541039\n",
       "alternative_txt       84.032781\n",
       "alternative           84.032781\n",
       "addnotes              84.430159\n",
       "related               86.219461\n",
       "claimmode             89.497003\n",
       "claimmode_txt         89.497003\n",
       "nhostkid              92.530175\n",
       "nhostkidus            92.560446\n",
       "weaptype2             92.775096\n",
       "weaptype2_txt         92.775096\n",
       "weapsubtype2_txt      93.647456\n",
       "weapsubtype2          93.647456\n",
       "targtype2_txt         93.866510\n",
       "targtype2             93.866510\n",
       "target2               93.934757\n",
       "hostkidoutcome_txt    93.950719\n",
       "hostkidoutcome        93.950719\n",
       "natlty2               94.040431\n",
       "natlty2_txt           94.040431\n",
       "targsubtype2          94.119136\n",
       "targsubtype2_txt      94.119136\n",
       "nreleased             94.275996\n",
       "corp2                 94.431755\n",
       "approxdate            94.914993\n",
       "ndays                 95.528672\n",
       "attacktype2_txt       96.524869\n",
       "attacktype2           96.524869\n",
       "gsubname              96.758232\n",
       "compclaim             97.336687\n",
       "nhours                97.763786\n",
       "kidhijcountry         98.180978\n",
       "resolution            98.778145\n",
       "gname2                98.892075\n",
       "guncertain2           98.923997\n",
       "claim2                98.959772\n",
       "weaptype3             98.974633\n",
       "weaptype3_txt         98.974633\n",
       "weapsubtype3_txt      99.068198\n",
       "weapsubtype3          99.068198\n",
       "ransomamt             99.256980\n",
       "targtype3             99.352747\n",
       "targtype3_txt         99.352747\n",
       "target3               99.353298\n",
       "natlty3_txt           99.368708\n",
       "natlty3               99.368708\n",
       "targsubtype3_txt      99.396228\n",
       "targsubtype3          99.396228\n",
       "corp3                 99.435305\n",
       "ransompaid            99.574002\n",
       "claimmode2_txt        99.660963\n",
       "claimmode2            99.660963\n",
       "ransomamtus           99.690133\n",
       "ransompaidus          99.696187\n",
       "ransomnote            99.717102\n",
       "attacktype3_txt       99.764435\n",
       "attacktype3           99.764435\n",
       "divert                99.821675\n",
       "gname3                99.821675\n",
       "guncertain3           99.823877\n",
       "claim3                99.824978\n",
       "gsubname2             99.911938\n",
       "claimmode3_txt        99.926799\n",
       "claimmode3            99.926799\n",
       "weaptype4_txt         99.959822\n",
       "weaptype4             99.959822\n",
       "weapsubtype4          99.961473\n",
       "weapsubtype4_txt      99.961473\n",
       "gsubname3             99.988992\n",
       "dtype: float64"
      ]
     },
     "execution_count": 5,
     "metadata": {},
     "output_type": "execute_result"
    }
   ],
   "source": [
    "100* (df.isnull().sum()/df.shape[0]).sort_values()"
   ]
  },
  {
   "cell_type": "code",
   "execution_count": 6,
   "metadata": {},
   "outputs": [],
   "source": [
    "#let's rename some important columns\n",
    "df=df.rename(columns={'iyear':'Year','imonth':'Month','iday':'Day','country_txt':'Country','region_txt':'Region',\n",
    "                             'provstate':'State','city':'City','attacktype1_txt':'Attack_type','targtype1_txt':'Target_type',\n",
    "                             'targsubtype1_txt':'Target_subtype','gname':'Gang_name','weaptype1_txt':'Weapon_type'})"
   ]
  },
  {
   "cell_type": "code",
   "execution_count": 7,
   "metadata": {},
   "outputs": [],
   "source": [
    "terrorism_df=df[['Year','Month','Day','Country','Region','State','City','Attack_type','Target_type','Target_subtype','Gang_name','Weapon_type']]"
   ]
  },
  {
   "cell_type": "code",
   "execution_count": 8,
   "metadata": {},
   "outputs": [
    {
     "data": {
      "text/html": [
       "<div>\n",
       "<style scoped>\n",
       "    .dataframe tbody tr th:only-of-type {\n",
       "        vertical-align: middle;\n",
       "    }\n",
       "\n",
       "    .dataframe tbody tr th {\n",
       "        vertical-align: top;\n",
       "    }\n",
       "\n",
       "    .dataframe thead th {\n",
       "        text-align: right;\n",
       "    }\n",
       "</style>\n",
       "<table border=\"1\" class=\"dataframe\">\n",
       "  <thead>\n",
       "    <tr style=\"text-align: right;\">\n",
       "      <th></th>\n",
       "      <th>Year</th>\n",
       "      <th>Month</th>\n",
       "      <th>Day</th>\n",
       "      <th>Country</th>\n",
       "      <th>Region</th>\n",
       "      <th>State</th>\n",
       "      <th>City</th>\n",
       "      <th>Attack_type</th>\n",
       "      <th>Target_type</th>\n",
       "      <th>Target_subtype</th>\n",
       "      <th>Gang_name</th>\n",
       "      <th>Weapon_type</th>\n",
       "    </tr>\n",
       "  </thead>\n",
       "  <tbody>\n",
       "    <tr>\n",
       "      <th>0</th>\n",
       "      <td>1970</td>\n",
       "      <td>7</td>\n",
       "      <td>2</td>\n",
       "      <td>Dominican Republic</td>\n",
       "      <td>Central America &amp; Caribbean</td>\n",
       "      <td>NaN</td>\n",
       "      <td>Santo Domingo</td>\n",
       "      <td>Assassination</td>\n",
       "      <td>Private Citizens &amp; Property</td>\n",
       "      <td>Named Civilian</td>\n",
       "      <td>MANO-D</td>\n",
       "      <td>Unknown</td>\n",
       "    </tr>\n",
       "    <tr>\n",
       "      <th>1</th>\n",
       "      <td>1970</td>\n",
       "      <td>0</td>\n",
       "      <td>0</td>\n",
       "      <td>Mexico</td>\n",
       "      <td>North America</td>\n",
       "      <td>Federal</td>\n",
       "      <td>Mexico city</td>\n",
       "      <td>Hostage Taking (Kidnapping)</td>\n",
       "      <td>Government (Diplomatic)</td>\n",
       "      <td>Diplomatic Personnel (outside of embassy, cons...</td>\n",
       "      <td>23rd of September Communist League</td>\n",
       "      <td>Unknown</td>\n",
       "    </tr>\n",
       "    <tr>\n",
       "      <th>2</th>\n",
       "      <td>1970</td>\n",
       "      <td>1</td>\n",
       "      <td>0</td>\n",
       "      <td>Philippines</td>\n",
       "      <td>Southeast Asia</td>\n",
       "      <td>Tarlac</td>\n",
       "      <td>Unknown</td>\n",
       "      <td>Assassination</td>\n",
       "      <td>Journalists &amp; Media</td>\n",
       "      <td>Radio Journalist/Staff/Facility</td>\n",
       "      <td>Unknown</td>\n",
       "      <td>Unknown</td>\n",
       "    </tr>\n",
       "    <tr>\n",
       "      <th>3</th>\n",
       "      <td>1970</td>\n",
       "      <td>1</td>\n",
       "      <td>0</td>\n",
       "      <td>Greece</td>\n",
       "      <td>Western Europe</td>\n",
       "      <td>Attica</td>\n",
       "      <td>Athens</td>\n",
       "      <td>Bombing/Explosion</td>\n",
       "      <td>Government (Diplomatic)</td>\n",
       "      <td>Embassy/Consulate</td>\n",
       "      <td>Unknown</td>\n",
       "      <td>Explosives</td>\n",
       "    </tr>\n",
       "    <tr>\n",
       "      <th>4</th>\n",
       "      <td>1970</td>\n",
       "      <td>1</td>\n",
       "      <td>0</td>\n",
       "      <td>Japan</td>\n",
       "      <td>East Asia</td>\n",
       "      <td>Fukouka</td>\n",
       "      <td>Fukouka</td>\n",
       "      <td>Facility/Infrastructure Attack</td>\n",
       "      <td>Government (Diplomatic)</td>\n",
       "      <td>Embassy/Consulate</td>\n",
       "      <td>Unknown</td>\n",
       "      <td>Incendiary</td>\n",
       "    </tr>\n",
       "  </tbody>\n",
       "</table>\n",
       "</div>"
      ],
      "text/plain": [
       "   Year  Month  Day             Country                       Region    State  \\\n",
       "0  1970      7    2  Dominican Republic  Central America & Caribbean      NaN   \n",
       "1  1970      0    0              Mexico                North America  Federal   \n",
       "2  1970      1    0         Philippines               Southeast Asia   Tarlac   \n",
       "3  1970      1    0              Greece               Western Europe   Attica   \n",
       "4  1970      1    0               Japan                    East Asia  Fukouka   \n",
       "\n",
       "            City                     Attack_type                  Target_type  \\\n",
       "0  Santo Domingo                   Assassination  Private Citizens & Property   \n",
       "1    Mexico city     Hostage Taking (Kidnapping)      Government (Diplomatic)   \n",
       "2        Unknown                   Assassination          Journalists & Media   \n",
       "3         Athens               Bombing/Explosion      Government (Diplomatic)   \n",
       "4        Fukouka  Facility/Infrastructure Attack      Government (Diplomatic)   \n",
       "\n",
       "                                      Target_subtype  \\\n",
       "0                                     Named Civilian   \n",
       "1  Diplomatic Personnel (outside of embassy, cons...   \n",
       "2                    Radio Journalist/Staff/Facility   \n",
       "3                                  Embassy/Consulate   \n",
       "4                                  Embassy/Consulate   \n",
       "\n",
       "                            Gang_name Weapon_type  \n",
       "0                              MANO-D     Unknown  \n",
       "1  23rd of September Communist League     Unknown  \n",
       "2                             Unknown     Unknown  \n",
       "3                             Unknown  Explosives  \n",
       "4                             Unknown  Incendiary  "
      ]
     },
     "execution_count": 8,
     "metadata": {},
     "output_type": "execute_result"
    }
   ],
   "source": [
    "terrorism_df.head()"
   ]
  },
  {
   "cell_type": "code",
   "execution_count": 9,
   "metadata": {},
   "outputs": [
    {
     "data": {
      "text/plain": [
       "(181691, 12)"
      ]
     },
     "execution_count": 9,
     "metadata": {},
     "output_type": "execute_result"
    }
   ],
   "source": [
    "terrorism_df.shape"
   ]
  },
  {
   "cell_type": "code",
   "execution_count": 10,
   "metadata": {},
   "outputs": [
    {
     "data": {
      "text/plain": [
       "Year                  0\n",
       "Month                 0\n",
       "Day                   0\n",
       "Country               0\n",
       "Region                0\n",
       "State               421\n",
       "City                434\n",
       "Attack_type           0\n",
       "Target_type           0\n",
       "Target_subtype    10373\n",
       "Gang_name             0\n",
       "Weapon_type           0\n",
       "dtype: int64"
      ]
     },
     "execution_count": 10,
     "metadata": {},
     "output_type": "execute_result"
    }
   ],
   "source": [
    "terrorism_df.isnull().sum()"
   ]
  },
  {
   "cell_type": "code",
   "execution_count": 11,
   "metadata": {},
   "outputs": [],
   "source": [
    "terrorism_df['State']=terrorism_df['State'].fillna('Unknown')\n",
    "terrorism_df['Target_subtype'] = terrorism_df['Target_subtype'].fillna('others')\n",
    "terrorism_df['City']=terrorism_df['City'].fillna('Unknown')\n",
    "terrorism_df.replace( {\"Vehicle (not to include vehicle-borne explosives, i.e., car or truck bombs)\": \"Vehicle\"},inplace = True)"
   ]
  },
  {
   "cell_type": "code",
   "execution_count": 12,
   "metadata": {},
   "outputs": [
    {
     "data": {
      "text/plain": [
       "205"
      ]
     },
     "execution_count": 12,
     "metadata": {},
     "output_type": "execute_result"
    }
   ],
   "source": [
    "terrorism_df['Country'].nunique()"
   ]
  },
  {
   "cell_type": "code",
   "execution_count": 13,
   "metadata": {},
   "outputs": [
    {
     "name": "stdout",
     "output_type": "stream",
     "text": [
      "Middle East & North Africa     50474\n",
      "South Asia                     44974\n",
      "South America                  18978\n",
      "Sub-Saharan Africa             17550\n",
      "Western Europe                 16639\n",
      "Southeast Asia                 12485\n",
      "Central America & Caribbean    10344\n",
      "Eastern Europe                  5144\n",
      "North America                   3456\n",
      "East Asia                        802\n",
      "Central Asia                     563\n",
      "Australasia & Oceania            282\n",
      "Name: Region, dtype: int64\n"
     ]
    }
   ],
   "source": [
    "print(terrorism_df['Region'].value_counts())"
   ]
  },
  {
   "cell_type": "code",
   "execution_count": 14,
   "metadata": {},
   "outputs": [
    {
     "data": {
      "text/plain": [
       "array(['Assassination', 'Hostage Taking (Kidnapping)',\n",
       "       'Bombing/Explosion', 'Facility/Infrastructure Attack',\n",
       "       'Armed Assault', 'Hijacking', 'Unknown', 'Unarmed Assault',\n",
       "       'Hostage Taking (Barricade Incident)'], dtype=object)"
      ]
     },
     "execution_count": 14,
     "metadata": {},
     "output_type": "execute_result"
    }
   ],
   "source": [
    "terrorism_df['Attack_type'].unique()"
   ]
  },
  {
   "cell_type": "code",
   "execution_count": 15,
   "metadata": {},
   "outputs": [
    {
     "name": "stdout",
     "output_type": "stream",
     "text": [
      "Bombing/Explosion                      88255\n",
      "Armed Assault                          42669\n",
      "Assassination                          19312\n",
      "Hostage Taking (Kidnapping)            11158\n",
      "Facility/Infrastructure Attack         10356\n",
      "Unknown                                 7276\n",
      "Unarmed Assault                         1015\n",
      "Hostage Taking (Barricade Incident)      991\n",
      "Hijacking                                659\n",
      "Name: Attack_type, dtype: int64\n"
     ]
    }
   ],
   "source": [
    "print(terrorism_df['Attack_type'].value_counts())"
   ]
  },
  {
   "cell_type": "code",
   "execution_count": 16,
   "metadata": {},
   "outputs": [
    {
     "name": "stdout",
     "output_type": "stream",
     "text": [
      "['Private Citizens & Property' 'Government (Diplomatic)'\n",
      " 'Journalists & Media' 'Police' 'Utilities' 'Military'\n",
      " 'Government (General)' 'Airports & Aircraft' 'Business'\n",
      " 'Educational Institution' 'Violent Political Party'\n",
      " 'Religious Figures/Institutions' 'Unknown' 'Transportation' 'Tourists'\n",
      " 'NGO' 'Telecommunication' 'Food or Water Supply'\n",
      " 'Terrorists/Non-State Militia' 'Other' 'Maritime' 'Abortion Related']\n"
     ]
    }
   ],
   "source": [
    "print(terrorism_df['Target_type'].unique())"
   ]
  },
  {
   "cell_type": "code",
   "execution_count": 17,
   "metadata": {},
   "outputs": [
    {
     "name": "stdout",
     "output_type": "stream",
     "text": [
      "Private Citizens & Property       43511\n",
      "Military                          27984\n",
      "Police                            24506\n",
      "Government (General)              21283\n",
      "Business                          20669\n",
      "Transportation                     6799\n",
      "Utilities                          6023\n",
      "Unknown                            5898\n",
      "Religious Figures/Institutions     4440\n",
      "Educational Institution            4322\n",
      "Government (Diplomatic)            3573\n",
      "Terrorists/Non-State Militia       3039\n",
      "Journalists & Media                2948\n",
      "Violent Political Party            1866\n",
      "Airports & Aircraft                1343\n",
      "Telecommunication                  1009\n",
      "NGO                                 970\n",
      "Tourists                            440\n",
      "Maritime                            351\n",
      "Food or Water Supply                317\n",
      "Abortion Related                    263\n",
      "Other                               137\n",
      "Name: Target_type, dtype: int64\n"
     ]
    }
   ],
   "source": [
    "print(terrorism_df['Target_type'].value_counts())"
   ]
  },
  {
   "cell_type": "code",
   "execution_count": 18,
   "metadata": {},
   "outputs": [
    {
     "name": "stdout",
     "output_type": "stream",
     "text": [
      "3537\n"
     ]
    }
   ],
   "source": [
    "print(terrorism_df['Gang_name'].nunique())"
   ]
  },
  {
   "cell_type": "code",
   "execution_count": 19,
   "metadata": {},
   "outputs": [
    {
     "name": "stdout",
     "output_type": "stream",
     "text": [
      "['Unknown' 'Explosives' 'Incendiary' 'Firearms' 'Chemical' 'Melee'\n",
      " 'Sabotage Equipment' 'Vehicle' 'Fake Weapons' 'Radiological' 'Other'\n",
      " 'Biological']\n"
     ]
    }
   ],
   "source": [
    "print(terrorism_df['Weapon_type'].unique())"
   ]
  },
  {
   "cell_type": "code",
   "execution_count": 20,
   "metadata": {},
   "outputs": [
    {
     "data": {
      "text/plain": [
       "Iraq              24636\n",
       "Pakistan          14368\n",
       "Afghanistan       12731\n",
       "India             11960\n",
       "Colombia           8306\n",
       "Philippines        6908\n",
       "Peru               6096\n",
       "El Salvador        5320\n",
       "United Kingdom     5235\n",
       "Turkey             4292\n",
       "Name: Country, dtype: int64"
      ]
     },
     "execution_count": 20,
     "metadata": {},
     "output_type": "execute_result"
    }
   ],
   "source": [
    "terrorism_df['Country'].value_counts().head(10)"
   ]
  },
  {
   "cell_type": "code",
   "execution_count": 21,
   "metadata": {},
   "outputs": [
    {
     "name": "stdout",
     "output_type": "stream",
     "text": [
      "Explosives            92426\n",
      "Firearms              58524\n",
      "Unknown               15157\n",
      "Incendiary            11135\n",
      "Melee                  3655\n",
      "Chemical                321\n",
      "Sabotage Equipment      141\n",
      "Vehicle                 136\n",
      "Other                   114\n",
      "Biological               35\n",
      "Fake Weapons             33\n",
      "Radiological             14\n",
      "Name: Weapon_type, dtype: int64\n"
     ]
    }
   ],
   "source": [
    "print(terrorism_df['Weapon_type'].value_counts())"
   ]
  },
  {
   "cell_type": "code",
   "execution_count": 22,
   "metadata": {},
   "outputs": [
    {
     "name": "stdout",
     "output_type": "stream",
     "text": [
      "<class 'pandas.core.frame.DataFrame'>\n",
      "RangeIndex: 181691 entries, 0 to 181690\n",
      "Data columns (total 12 columns):\n",
      " #   Column          Non-Null Count   Dtype \n",
      "---  ------          --------------   ----- \n",
      " 0   Year            181691 non-null  int64 \n",
      " 1   Month           181691 non-null  int64 \n",
      " 2   Day             181691 non-null  int64 \n",
      " 3   Country         181691 non-null  object\n",
      " 4   Region          181691 non-null  object\n",
      " 5   State           181691 non-null  object\n",
      " 6   City            181691 non-null  object\n",
      " 7   Attack_type     181691 non-null  object\n",
      " 8   Target_type     181691 non-null  object\n",
      " 9   Target_subtype  181691 non-null  object\n",
      " 10  Gang_name       181691 non-null  object\n",
      " 11  Weapon_type     181691 non-null  object\n",
      "dtypes: int64(3), object(9)\n",
      "memory usage: 16.6+ MB\n"
     ]
    }
   ],
   "source": [
    "terrorism_df.info()"
   ]
  },
  {
   "cell_type": "code",
   "execution_count": 23,
   "metadata": {},
   "outputs": [
    {
     "data": {
      "application/javascript": [
       "\n",
       "        if (window._pyforest_update_imports_cell) { window._pyforest_update_imports_cell('import seaborn as sns'); }\n",
       "    "
      ],
      "text/plain": [
       "<IPython.core.display.Javascript object>"
      ]
     },
     "metadata": {},
     "output_type": "display_data"
    },
    {
     "data": {
      "image/png": "[encoded data removed]",
      "text/plain": [
       "<Figure size 1440x360 with 1 Axes>"
      ]
     },
     "metadata": {
      "needs_background": "light"
     },
     "output_type": "display_data"
    }
   ],
   "source": [
    "plt.figure(figsize=(20,5));\n",
    "sns.countplot(terrorism_df['Weapon_type']);"
   ]
  },
  {
   "cell_type": "code",
   "execution_count": 24,
   "metadata": {},
   "outputs": [
    {
     "data": {
      "application/javascript": [
       "\n",
       "        if (window._pyforest_update_imports_cell) { window._pyforest_update_imports_cell('import seaborn as sns'); }\n",
       "    "
      ],
      "text/plain": [
       "<IPython.core.display.Javascript object>"
      ]
     },
     "metadata": {},
     "output_type": "display_data"
    },
    {
     "data": {
      "image/png": "[encoded data removed]",
      "text/plain": [
       "<Figure size 432x288 with 1 Axes>"
      ]
     },
     "metadata": {
      "needs_background": "light"
     },
     "output_type": "display_data"
    }
   ],
   "source": [
    "sns.countplot(terrorism_df['Weapon_type']);"
   ]
  },
  {
   "cell_type": "code",
   "execution_count": 29,
   "metadata": {},
   "outputs": [
    {
     "data": {
      "application/javascript": [
       "\n",
       "        if (window._pyforest_update_imports_cell) { window._pyforest_update_imports_cell('import seaborn as sns'); }\n",
       "    "
      ],
      "text/plain": [
       "<IPython.core.display.Javascript object>"
      ]
     },
     "metadata": {},
     "output_type": "display_data"
    },
    {
     "data": {
      "image/png": "[encoded data removed]",
      "text/plain": [
       "<Figure size 1440x720 with 1 Axes>"
      ]
     },
     "metadata": {
      "needs_background": "light"
     },
     "output_type": "display_data"
    }
   ],
   "source": [
    "plt.figure(figsize=(20,10))\n",
    "sns.countplot(terrorism_df['Year']);\n",
    "plt.xticks(rotation = 90)\n",
    "b = plt.title('Terrorism by Year')"
   ]
  },
  {
   "cell_type": "code",
   "execution_count": 34,
   "metadata": {},
   "outputs": [
    {
     "data": {
      "application/javascript": [
       "\n",
       "        if (window._pyforest_update_imports_cell) { window._pyforest_update_imports_cell('import seaborn as sns'); }\n",
       "    "
      ],
      "text/plain": [
       "<IPython.core.display.Javascript object>"
      ]
     },
     "metadata": {},
     "output_type": "display_data"
    },
    {
     "data": {
      "text/plain": [
       "Text(0.5, 1.0, 'Terrorism by Month')"
      ]
     },
     "execution_count": 34,
     "metadata": {},
     "output_type": "execute_result"
    },
    {
     "data": {
      "image/png": "[encoded data removed]",
      "text/plain": [
       "<Figure size 1440x720 with 1 Axes>"
      ]
     },
     "metadata": {
      "needs_background": "light"
     },
     "output_type": "display_data"
    }
   ],
   "source": [
    "plt.figure(figsize=(20,10))\n",
    "sns.countplot(terrorism_df['Month'])\n",
    "plt.title('Terrorism by Month')"
   ]
  },
  {
   "cell_type": "code",
   "execution_count": 37,
   "metadata": {},
   "outputs": [
    {
     "data": {
      "application/javascript": [
       "\n",
       "        if (window._pyforest_update_imports_cell) { window._pyforest_update_imports_cell('import seaborn as sns'); }\n",
       "    "
      ],
      "text/plain": [
       "<IPython.core.display.Javascript object>"
      ]
     },
     "metadata": {},
     "output_type": "display_data"
    },
    {
     "data": {
      "text/plain": [
       "Text(0.5, 1.0, 'Attacks by Day')"
      ]
     },
     "execution_count": 37,
     "metadata": {},
     "output_type": "execute_result"
    },
    {
     "data": {
      "image/png": "[encoded data removed]",
      "text/plain": [
       "<Figure size 1440x720 with 1 Axes>"
      ]
     },
     "metadata": {
      "needs_background": "light"
     },
     "output_type": "display_data"
    }
   ],
   "source": [
    "plt.figure(figsize=(20,10))\n",
    "sns.countplot(terrorism_df['Day'])\n",
    "p = plt.title('Attacks by Day')"
   ]
  },
  {
   "cell_type": "markdown",
   "metadata": {},
   "source": [
    "### Almost Every day has the same contribution but attacks were low during 31st and high during 15th and 1st."
   ]
  },
  {
   "cell_type": "code",
   "execution_count": 52,
   "metadata": {},
   "outputs": [
    {
     "data": {
      "application/javascript": [
       "\n",
       "        if (window._pyforest_update_imports_cell) { window._pyforest_update_imports_cell('import seaborn as sns'); }\n",
       "    "
      ],
      "text/plain": [
       "<IPython.core.display.Javascript object>"
      ]
     },
     "metadata": {},
     "output_type": "display_data"
    },
    {
     "data": {
      "text/plain": [
       "<AxesSubplot:xlabel='Country', ylabel='count'>"
      ]
     },
     "execution_count": 52,
     "metadata": {},
     "output_type": "execute_result"
    },
    {
     "data": {
      "image/png": "[encoded data removed]",
      "text/plain": [
       "<Figure size 1440x720 with 1 Axes>"
      ]
     },
     "metadata": {
      "needs_background": "light"
     },
     "output_type": "display_data"
    }
   ],
   "source": [
    "plt.figure(figsize=(20,10))\n",
    "\n",
    "sns.countplot(x= terrorism_df['Country'], order=terrorism_df['Country'].value_counts().iloc[:10].index)\n",
    "# sns.countplot(terrorism_df['Country'])\n",
    "# p = plt.title('Attacks by Country')"
   ]
  },
  {
   "cell_type": "markdown",
   "metadata": {},
   "source": [
    "### Iraq dominates all the countries and it has the highest number of attacks and then Pakistan, Afghanistan, and India follow it."
   ]
  },
  {
   "cell_type": "code",
   "execution_count": 60,
   "metadata": {},
   "outputs": [
    {
     "data": {
      "application/javascript": [
       "\n",
       "        if (window._pyforest_update_imports_cell) { window._pyforest_update_imports_cell('import seaborn as sns'); }\n",
       "    "
      ],
      "text/plain": [
       "<IPython.core.display.Javascript object>"
      ]
     },
     "metadata": {},
     "output_type": "display_data"
    },
    {
     "data": {
      "image/png": "[encoded data removed]",
      "text/plain": [
       "<Figure size 2016x360 with 1 Axes>"
      ]
     },
     "metadata": {
      "needs_background": "light"
     },
     "output_type": "display_data"
    }
   ],
   "source": [
    "plt.figure(figsize=(28,5));\n",
    "plt.rcParams.update({'font.size':15});\n",
    "plt.xticks(rotation = 25)\n",
    "plt.title('Attacks by Region')\n",
    "sns.countplot(x=terrorism_df['Region'], order= terrorism_df['Region'].value_counts().index);"
   ]
  },
  {
   "cell_type": "markdown",
   "metadata": {},
   "source": [
    "### The Middle East& North Africa leads 1st among all the regions and then South Asia takes 2nd place."
   ]
  },
  {
   "cell_type": "code",
   "execution_count": 59,
   "metadata": {},
   "outputs": [
    {
     "data": {
      "application/javascript": [
       "\n",
       "        if (window._pyforest_update_imports_cell) { window._pyforest_update_imports_cell('import seaborn as sns'); }\n",
       "    "
      ],
      "text/plain": [
       "<IPython.core.display.Javascript object>"
      ]
     },
     "metadata": {},
     "output_type": "display_data"
    },
    {
     "data": {
      "image/png": "[encoded data removed]",
      "text/plain": [
       "<Figure size 1440x360 with 1 Axes>"
      ]
     },
     "metadata": {
      "needs_background": "light"
     },
     "output_type": "display_data"
    }
   ],
   "source": [
    "plt.figure(figsize=(20,5));\n",
    "plt.rcParams.update({'font.size':10});\n",
    "plt.xticks(rotation = 90)\n",
    "plt.title('Based on Target type')\n",
    "p = sns.countplot(x=terrorism_df['Target_type'], order= terrorism_df['Target_type'].value_counts().index)"
   ]
  },
  {
   "cell_type": "markdown",
   "metadata": {},
   "source": [
    "### For most of the attacks, the target is Private Citizens& property and the next Military leads."
   ]
  },
  {
   "cell_type": "code",
   "execution_count": 61,
   "metadata": {},
   "outputs": [
    {
     "data": {
      "application/javascript": [
       "\n",
       "        if (window._pyforest_update_imports_cell) { window._pyforest_update_imports_cell('import seaborn as sns'); }\n",
       "    "
      ],
      "text/plain": [
       "<IPython.core.display.Javascript object>"
      ]
     },
     "metadata": {},
     "output_type": "display_data"
    },
    {
     "data": {
      "image/png": "[encoded data removed]",
      "text/plain": [
       "<Figure size 1800x360 with 1 Axes>"
      ]
     },
     "metadata": {
      "needs_background": "light"
     },
     "output_type": "display_data"
    }
   ],
   "source": [
    "plt.figure(figsize=(25,5));\n",
    "plt.rcParams.update({'font.size':12});\n",
    "plt.xticks(rotation = 0)\n",
    "plt.title('Based on Attack type')\n",
    "sns.countplot(x=terrorism_df['Attack_type'], order= terrorism_df['Attack_type'].value_counts().index);"
   ]
  },
  {
   "cell_type": "markdown",
   "metadata": {},
   "source": [
    "### Most of the attacks were through either Bombing or Explosion."
   ]
  },
  {
   "cell_type": "code",
   "execution_count": null,
   "metadata": {},
   "outputs": [],
   "source": []
  }
 ],
 "metadata": {
  "kernelspec": {
   "display_name": "Python 3",
   "language": "python",
   "name": "python3"
  },
  "language_info": {
   "codemirror_mode": {
    "name": "ipython",
    "version": 3
   },
   "file_extension": ".py",
   "mimetype": "text/x-python",
   "name": "python",
   "nbconvert_exporter": "python",
   "pygments_lexer": "ipython3",
   "version": "3.8.5"
  }
 },
 "nbformat": 4,
 "nbformat_minor": 4
}
